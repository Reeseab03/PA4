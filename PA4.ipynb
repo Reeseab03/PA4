{
 "cells": [
  {
   "cell_type": "markdown",
   "id": "f7afb486",
   "metadata": {},
   "source": [
    "# Assignment 5"
   ]
  },
  {
   "cell_type": "markdown",
   "id": "b72aaee5",
   "metadata": {},
   "source": [
    "## Reese Bottorff"
   ]
  },
  {
   "cell_type": "markdown",
   "id": "2166236d",
   "metadata": {},
   "source": [
    "# CS 150"
   ]
  },
  {
   "cell_type": "code",
   "execution_count": 25,
   "id": "3a56ec86",
   "metadata": {},
   "outputs": [
    {
     "name": "stdout",
     "output_type": "stream",
     "text": [
      "0\n",
      "1\n",
      "2\n",
      "3\n",
      "4\n",
      "5\n",
      "6 *\n",
      "7\n",
      "8\n",
      "9 *\n",
      "10\n",
      "11\n",
      "12 *\n",
      "13\n",
      "14\n",
      "15 *\n",
      "16\n",
      "17\n",
      "18 *\n",
      "19\n",
      "20\n",
      "21 *\n",
      "22\n",
      "23\n",
      "24 *\n",
      "25\n",
      "26\n",
      "27 *\n",
      "28\n",
      "29\n",
      "30 *\n",
      "31\n",
      "32\n",
      "33 *\n",
      "34\n",
      "35\n",
      "36 *\n",
      "37\n",
      "38\n",
      "39 *\n",
      "40\n",
      "41\n",
      "42 *\n",
      "43\n",
      "44\n",
      "45 *\n",
      "46\n",
      "47\n",
      "48 *\n",
      "49\n",
      "50\n",
      "51 *\n",
      "52\n",
      "53\n",
      "54 *\n",
      "55\n",
      "56\n",
      "57 *\n",
      "58\n",
      "59\n",
      "60 *\n",
      "61\n",
      "62\n",
      "63 *\n",
      "64\n",
      "65\n",
      "66 *\n",
      "67\n",
      "68\n",
      "69 *\n",
      "70\n",
      "71\n",
      "72 *\n",
      "73\n",
      "74\n",
      "75 *\n",
      "76\n",
      "77\n",
      "78 *\n",
      "79\n",
      "80\n",
      "81 *\n",
      "82\n",
      "83\n",
      "84 *\n",
      "85\n",
      "86\n",
      "87 *\n",
      "88\n",
      "89\n",
      "90 *\n",
      "91\n",
      "92\n",
      "93 *\n",
      "94\n",
      "95\n",
      "96 *\n",
      "97\n",
      "98\n",
      "99 *\n"
     ]
    }
   ],
   "source": [
    "for i in range(0,100):\n",
    "    if (i%3 == 0 and i!=0 and i!=3):\n",
    "        print(i, \"*\")\n",
    "    else:\n",
    "        print(i)\n",
    "\n"
   ]
  },
  {
   "cell_type": "code",
   "execution_count": 35,
   "id": "fdc4642f",
   "metadata": {},
   "outputs": [
    {
     "name": "stdout",
     "output_type": "stream",
     "text": [
      "Enter a number 1-12:3\n",
      "March has 31 days\n"
     ]
    }
   ],
   "source": [
    "number=int(input(\"Enter a number 1-12:\"))\n",
    "if (number==1):\n",
    "    print(\"January has 31 days\")\n",
    "if (number==2):\n",
    "    print(\"February has 28 days\")\n",
    "if (number==3):\n",
    "    print(\"March has 31 days\")\n",
    "if (number==4):\n",
    "    print(\"April has 30 days\")\n",
    "if (number==5):\n",
    "    print(\"May has 31 days\")\n",
    "if (number==6):\n",
    "    print(\"June has 30 days\")\n",
    "if (number==7):\n",
    "    print(\"July has 31 days\")\n",
    "if (number==8):\n",
    "    print(\"August has 31 days\")\n",
    "if (number==9):\n",
    "    print(\"September has 30 days\")\n",
    "if (number==10):\n",
    "    print(\"October has 31 days\")\n",
    "if (number==11):\n",
    "    print(\"November has 30 days\")\n",
    "if (number==12):\n",
    "    print(\"December has 31 days\")"
   ]
  },
  {
   "cell_type": "code",
   "execution_count": 28,
   "id": "9f09e936",
   "metadata": {},
   "outputs": [
    {
     "name": "stdout",
     "output_type": "stream",
     "text": [
      "Enter a number:7\n",
      "The number is prime\n"
     ]
    }
   ],
   "source": [
    "number=int(input(\"Enter a number:\"))\n",
    "if (number==1):\n",
    "    print(\"The number is not prime\")\n",
    "elif (number>1):\n",
    "    if (number%2==0 or number%3==0):\n",
    "        print(\"The number is not prime\")\n",
    "    else:\n",
    "        print(\"The number is prime\")\n",
    "\n"
   ]
  },
  {
   "cell_type": "code",
   "execution_count": 31,
   "id": "cc05fba9",
   "metadata": {},
   "outputs": [
    {
     "name": "stdout",
     "output_type": "stream",
     "text": [
      "Enter a number:2\n",
      "Enter a number:3\n",
      "Enter a number:2\n",
      "This is an isosceles triangle\n"
     ]
    }
   ],
   "source": [
    "triangle1=int(input(\"Enter a number:\"))\n",
    "triangle2=int(input(\"Enter a number:\"))\n",
    "triangle3=int(input(\"Enter a number:\"))\n",
    "if (triangle1==triangle2 and triangle1==triangle3):\n",
    "    print(\"This is an equilateral triangle\")\n",
    "elif (triangle1==triangle2 or triangle1==triangle3 or triangle3==triangle2):\n",
    "    print(\"This is an isosceles triangle\")\n",
    "elif (triangle1!=triangle2 and triangle1!=triangle3 and triangle3!=triangle2):\n",
    "    print(\"This is a scalene triangle\")"
   ]
  },
  {
   "cell_type": "code",
   "execution_count": 32,
   "id": "bb6a1eaa",
   "metadata": {},
   "outputs": [
    {
     "name": "stdout",
     "output_type": "stream",
     "text": [
      "Enter an age:45\n",
      "Adult\n"
     ]
    }
   ],
   "source": [
    "age=int(input(\"Enter an age:\"))\n",
    "if (age<18):\n",
    "    print(\"Minor\")\n",
    "elif (age>=18 and age<=64):\n",
    "    print(\"Adult\")\n",
    "elif (age>=65):\n",
    "    print(\"Senior Citizen\")\n"
   ]
  }
 ],
 "metadata": {
  "kernelspec": {
   "display_name": "Python 3 (ipykernel)",
   "language": "python",
   "name": "python3"
  },
  "language_info": {
   "codemirror_mode": {
    "name": "ipython",
    "version": 3
   },
   "file_extension": ".py",
   "mimetype": "text/x-python",
   "name": "python",
   "nbconvert_exporter": "python",
   "pygments_lexer": "ipython3",
   "version": "3.9.13"
  }
 },
 "nbformat": 4,
 "nbformat_minor": 5
}
